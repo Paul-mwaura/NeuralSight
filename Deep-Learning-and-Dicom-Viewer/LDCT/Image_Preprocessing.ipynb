{
 "cells": [
  {
   "cell_type": "markdown",
   "metadata": {},
   "source": [
    "# Dicom Image Segmentation"
   ]
  },
  {
   "cell_type": "code",
   "execution_count": 1,
   "metadata": {},
   "outputs": [],
   "source": [
    "import os\n",
    "import random\n",
    "import shutil\n",
    "from time import time\n",
    "from datetime import datetime\n",
    "\n",
    "import numpy as np\n",
    "import matplotlib.pyplot as plt\n",
    "import pydicom\n",
    "from tqdm import trange"
   ]
  },
  {
   "cell_type": "markdown",
   "metadata": {},
   "source": [
    "## 1、Build Dicom_Seg Class"
   ]
  },
  {
   "cell_type": "code",
   "execution_count": 4,
   "metadata": {},
   "outputs": [],
   "source": [
    "class Dicom_Seg():\n",
    "    '''读取LDCT和NDCT图像，分割为matrix*matrix大小，并保存在指定路径。'''\n",
    "    \n",
    "    def __init__(self, LDCT_root, NDCT_root, LDCT_save_path, NDCT_save_path, matrix = 64):\n",
    "        '''请指定分割的目标大小、LDCT和NDCT读取路径和保存路径'''\n",
    "        super().__init__()\n",
    "        self.LDCT_root = LDCT_root\n",
    "        self.NDCT_root = NDCT_root\n",
    "        self.LDCT_save_path = LDCT_save_path\n",
    "        self.NDCT_save_path = NDCT_save_path\n",
    "        self.matrix = matrix\n",
    "        \n",
    "        LDCT_list = os.listdir(LDCT_root)\n",
    "        NDCT_list = os.listdir(NDCT_root)\n",
    "        self.data_path = list(zip(LDCT_list, NDCT_list))\n",
    "        \n",
    "        if len(LDCT_list) == len(NDCT_list):\n",
    "            self.len = len(LDCT_list)\n",
    "        else:\n",
    "            print('LDCT和NDCT图像数量不一致，请检查!')\n",
    "\n",
    "\n",
    "    def autoprocess(self):\n",
    "        '''调用该方法全自动处理'''\n",
    "        start_time = time()\n",
    "        \n",
    "        print('将Dicom图像分割为：{0}×{0} matrix'.format(self.matrix))\n",
    "        print('LDCT保存路径: ' + self.LDCT_save_path, 'NDCT保存路径: ' + self.NDCT_save_path, sep = '\\n')\n",
    "        print('开始分割。。。')\n",
    "        \n",
    "        for idx in trange(self.len):\n",
    "            LD_name, ND_name = self.data_path[idx]\n",
    "            LD_path = self.LDCT_root + '\\\\' + LD_name\n",
    "            ND_path = self.NDCT_root + '\\\\' + ND_name\n",
    "            self.process(idx, LD_path, ND_path, self.LDCT_save_path, self.NDCT_save_path, LD_name, ND_name)\n",
    "            \n",
    "        print('分割完成！！！\\n')\n",
    "        end_time = time()\n",
    "        time_start = datetime.fromtimestamp(start_time)\n",
    "        time_end = datetime.fromtimestamp(end_time)\n",
    "        print('Start Time:   ' + time_start.strftime('%H:%M:%S.%f'))\n",
    "        print('End Time:     ' + time_end.strftime('%H:%M:%S.%f'))\n",
    "        print('Elapsed Time: ' + '{:.3f}s'.format(end_time - start_time))\n",
    "  \n",
    "    def process(self, idx, LD_path, ND_path, LDCT_save_path, NDCT_save_path, LD_name, ND_name):\n",
    "        '''读取图像、分割、保存'''\n",
    "        # 读取\n",
    "        LD_ds, LD_image = self.get_dcm_array(LD_path)\n",
    "        ND_ds, ND_image = self.get_dcm_array(ND_path)\n",
    "\n",
    "        LD_image = LD_image[32:-32, 32:-32]\n",
    "        ND_image = ND_image[32:-32, 32:-32]\n",
    "        \n",
    "        # 分割\n",
    "        LD_seg_images = self.segment(self.matrix, LD_image)\n",
    "        ND_seg_images = self.segment(self.matrix, ND_image)\n",
    "        \n",
    "        # 保存\n",
    "        self.save(idx, LDCT_save_path, LD_seg_images, LD_ds, LD_name)\n",
    "        self.save(idx, NDCT_save_path, ND_seg_images, ND_ds, ND_name)\n",
    "    \n",
    "    @staticmethod\n",
    "    def get_dcm_array(path):\n",
    "        '''读取dcm pixel_array'''\n",
    "        ds = pydicom.filereader.dcmread(path)\n",
    "        return ds, ds.pixel_array\n",
    "    \n",
    "    @staticmethod\n",
    "    def segment(matrix, image):\n",
    "        '''按照matrix大小进行分割'''\n",
    "        n = image.shape[0]/matrix\n",
    "        n = int(n)\n",
    "        images = []\n",
    "        for y in range(n):\n",
    "            for x in range(n):\n",
    "                images.append(image[y*matrix:(y+1)*matrix, x*matrix:(x+1)*matrix])\n",
    "        return images\n",
    "    \n",
    "    @staticmethod\n",
    "    def save(idx, save_path, seg_images, ds, name):\n",
    "        for i in range(len(seg_images)):\n",
    "            ds.PixelData = seg_images[i].tobytes()\n",
    "            ds.Rows, ds.Columns = seg_images[i].shape\n",
    "            ds.save_as(save_path + \"\\\\\" + \"{}-{}.dcm\".format(name, i+1))"
   ]
  },
  {
   "cell_type": "markdown",
   "metadata": {},
   "source": [
    "## 2、Instantiate Dicom_Seg()"
   ]
  },
  {
   "cell_type": "code",
   "execution_count": 6,
   "metadata": {},
   "outputs": [],
   "source": [
    "LDCT_root = r'E:\\NBIA\\Sampling\\Dataset\\LDCT5'\n",
    "NDCT_root = r'E:\\NBIA\\Sampling\\Dataset\\NDCT5'\n",
    "LDCT_save_path = r'E:\\NBIA\\Sampling\\Dataset\\LDCT5set'\n",
    "NDCT_save_path = r'E:\\NBIA\\Sampling\\Dataset\\NDCT5set'\n",
    "if not os.path.isdir(NDCT_save_path):\n",
    "    os.mkdir(NDCT_save_path)\n",
    "if not os.path.isdir(LDCT_save_path):\n",
    "    os.mkdir(LDCT_save_path)\n",
    "matrix = 64\n",
    "seg = Dicom_Seg(LDCT_root, NDCT_root, LDCT_save_path, NDCT_save_path, matrix = matrix)"
   ]
  },
  {
   "cell_type": "markdown",
   "metadata": {},
   "source": [
    "## 3、Process"
   ]
  },
  {
   "cell_type": "code",
   "execution_count": 7,
   "metadata": {
    "scrolled": true
   },
   "outputs": [
    {
     "name": "stderr",
     "output_type": "stream",
     "text": [
      "  0%|          | 0/260 [00:00<?, ?it/s]将Dicom图像分割为：64×64 matrix\n",
      "LDCT保存路径: E:\\NBIA\\Sampling\\Dataset\\LDCT5set\n",
      "NDCT保存路径: E:\\NBIA\\Sampling\\Dataset\\NDCT5set\n",
      "开始分割。。。\n",
      "100%|██████████| 260/260 [03:53<00:00,  1.11it/s]分割完成！！！\n",
      "\n",
      "Start Time:   20:35:17.356852\n",
      "End Time:     20:39:10.788025\n",
      "Elapsed Time: 233.431s\n",
      "\n"
     ]
    }
   ],
   "source": [
    "seg.autoprocess()"
   ]
  },
  {
   "cell_type": "markdown",
   "metadata": {},
   "source": [
    "# Image Sampling"
   ]
  },
  {
   "cell_type": "code",
   "execution_count": 6,
   "metadata": {},
   "outputs": [
    {
     "name": "stderr",
     "output_type": "stream",
     "text": [
      " 10%|█         | 2/20 [00:00<00:01, 16.44it/s]一共10例，每隔5张图像分层抽样\n",
      "E:\\NBIA\\Sampling\\Dataset\\train\\L004\\08-21-2018-84608\\1.000000-Full dose images-59704\n",
      "E:\\NBIA\\Sampling\\Dataset\\train\\L004\\08-21-2018-84608\\1.000000-Low Dose Images-35583\n",
      "L004\n",
      "100%|██████████| 20/20 [00:00<00:00, 29.93it/s]\n",
      " 21%|██▏       | 6/28 [00:00<00:00, 49.28it/s]E:\\NBIA\\Sampling\\Dataset\\train\\L072\\08-26-2018-21862\\1.000000-Full dose images-12733\n",
      "E:\\NBIA\\Sampling\\Dataset\\train\\L072\\08-26-2018-21862\\1.000000-Low Dose Images-71203\n",
      "L072\n",
      "100%|██████████| 28/28 [00:00<00:00, 34.11it/s]\n",
      " 12%|█▏        | 3/26 [00:00<00:00, 29.49it/s]E:\\NBIA\\Sampling\\Dataset\\train\\L081\\08-22-2018-26950\\1.000000-Full dose images-01818\n",
      "E:\\NBIA\\Sampling\\Dataset\\train\\L081\\08-22-2018-26950\\1.000000-Low Dose Images-38896\n",
      "L081\n",
      "100%|██████████| 26/26 [00:00<00:00, 27.56it/s]\n",
      " 23%|██▎       | 6/26 [00:00<00:00, 50.53it/s]E:\\NBIA\\Sampling\\Dataset\\train\\L110\\08-23-2018-87457\\1.000000-Full dose images-50611\n",
      "E:\\NBIA\\Sampling\\Dataset\\train\\L110\\08-23-2018-87457\\1.000000-Low Dose Images-35324\n",
      "L110\n",
      "100%|██████████| 26/26 [00:01<00:00, 18.39it/s]\n",
      " 23%|██▎       | 7/31 [00:00<00:00, 41.53it/s]E:\\NBIA\\Sampling\\Dataset\\train\\L114\\08-24-2018-12249\\1.000000-Full dose images-50694\n",
      "E:\\NBIA\\Sampling\\Dataset\\train\\L114\\08-24-2018-12249\\1.000000-Low Dose Images-28902\n",
      "L114\n",
      "100%|██████████| 31/31 [00:01<00:00, 21.30it/s]\n",
      " 28%|██▊       | 5/18 [00:00<00:00, 49.64it/s]E:\\NBIA\\Sampling\\Dataset\\train\\L131\\08-22-2018-57994\\1.000000-Full dose images-14608\n",
      "E:\\NBIA\\Sampling\\Dataset\\train\\L131\\08-22-2018-57994\\1.000000-Low Dose Images-23236\n",
      "L131\n",
      "100%|██████████| 18/18 [00:00<00:00, 19.59it/s]\n",
      " 18%|█▊        | 6/33 [00:00<00:00, 53.70it/s]E:\\NBIA\\Sampling\\Dataset\\train\\L193\\08-23-2018-51256\\1.000000-Full dose images-37479\n",
      "E:\\NBIA\\Sampling\\Dataset\\train\\L193\\08-23-2018-51256\\1.000000-Low Dose Images-97058\n",
      "L193\n",
      "100%|██████████| 33/33 [00:00<00:00, 40.61it/s]\n",
      " 26%|██▋       | 5/19 [00:00<00:00, 43.59it/s]E:\\NBIA\\Sampling\\Dataset\\train\\L209\\08-26-2018-38677\\1.000000-Full dose images-48801\n",
      "E:\\NBIA\\Sampling\\Dataset\\train\\L209\\08-26-2018-38677\\1.000000-Low Dose Images-56490\n",
      "L209\n",
      "100%|██████████| 19/19 [00:01<00:00, 15.48it/s]\n",
      " 14%|█▍        | 4/29 [00:00<00:00, 37.14it/s]E:\\NBIA\\Sampling\\Dataset\\train\\L210\\08-24-2018-84346\\1.000000-Full dose images-78821\n",
      "E:\\NBIA\\Sampling\\Dataset\\train\\L210\\08-24-2018-84346\\1.000000-Low Dose Images-64503\n",
      "L210\n",
      "100%|██████████| 29/29 [00:01<00:00, 21.36it/s]\n",
      " 27%|██▋       | 8/30 [00:00<00:00, 69.61it/s]E:\\NBIA\\Sampling\\Dataset\\train\\L299\\08-24-2018-27551\\1.000000-Full dose images-97891\n",
      "E:\\NBIA\\Sampling\\Dataset\\train\\L299\\08-24-2018-27551\\1.000000-Low Dose Images-12848\n",
      "L299\n",
      "100%|██████████| 30/30 [00:01<00:00, 21.99it/s]一共260组图像。\n",
      "\n"
     ]
    }
   ],
   "source": [
    "count = 0\n",
    "sep = 5  #抽样间隔\n",
    "\n",
    "root = r'E:\\NBIA\\Sampling\\Dataset\\train'\n",
    "NDCT_save_path = r'E:\\NBIA\\Sampling\\Dataset\\NDCT5'\n",
    "LDCT_save_path = r'E:\\NBIA\\Sampling\\Dataset\\LDCT5'\n",
    "\n",
    "if not os.path.isdir(NDCT_save_path):\n",
    "    os.mkdir(NDCT_save_path)\n",
    "if not os.path.isdir(LDCT_save_path):\n",
    "    os.mkdir(LDCT_save_path)\n",
    "    \n",
    "NDCT_lable_str = 'Full dose images'\n",
    "LDCT_lable_str = 'Low Dose Images'\n",
    "patient_list = os.listdir(root)\n",
    "print('一共{}例，每隔{}张图像分层抽样'.format(len(patient_list), sep))\n",
    "for patient in patient_list:\n",
    "    patient_root = root + '\\\\' + patient + '\\\\' + os.listdir(root + '\\\\' + patient)[0]\n",
    "    paths = os.listdir(patient_root)\n",
    "    if NDCT_lable_str in paths[0]:\n",
    "        ND_path = patient_root + '\\\\' + paths[0]\n",
    "        LD_path = patient_root + '\\\\' + paths[1]\n",
    "    elif NDCT_lable_str in paths[1]:\n",
    "        ND_path = patient_root + '\\\\' + paths[1]\n",
    "        LD_path = patient_root + '\\\\' + paths[0]\n",
    "        \n",
    "    print(ND_path, LD_path, sep = '\\n')\n",
    "    ND_list = os.listdir(ND_path)\n",
    "    LD_list = os.listdir(LD_path)\n",
    "    \n",
    "    idx = random.randint(0, sep-1)\n",
    "    dcm_num = len(os.listdir(ND_path))//sep\n",
    "    if len(os.listdir(ND_path))%sep >= (idx+1):\n",
    "        dcm_num += 1\n",
    "        \n",
    "    print(patient)\n",
    "    for i in trange(dcm_num):\n",
    "        if ND_list[idx] != LD_list[idx]:\n",
    "            break\n",
    "        ND_new_name = 'NDCT-' + patient +'_'+ ND_list[idx]\n",
    "        LD_new_name = 'LDCT-' + patient +'_'+ LD_list[idx]\n",
    "        shutil.copy(os.path.join(ND_path, ND_list[idx]),os.path.join(NDCT_save_path, ND_new_name)) \n",
    "        shutil.copy(os.path.join(LD_path, LD_list[idx]),os.path.join(LDCT_save_path, LD_new_name)) \n",
    "        \n",
    "        idx += sep\n",
    "        count += 1\n",
    "print('一共{}组图像。'.format(count))"
   ]
  },
  {
   "cell_type": "code",
   "execution_count": 3,
   "metadata": {},
   "outputs": [
    {
     "name": "stderr",
     "output_type": "stream",
     "text": [
      "  0%|          | 0/3 [00:00<?, ?it/s]一共50例，每隔40张图像分层抽样\n",
      "L004\n",
      "100%|██████████| 3/3 [00:00<00:00,  5.00it/s]\n",
      "  0%|          | 0/4 [00:00<?, ?it/s]L006\n",
      "100%|██████████| 4/4 [00:00<00:00,  5.08it/s]\n",
      "  0%|          | 0/3 [00:00<?, ?it/s]L014\n",
      "100%|██████████| 3/3 [00:00<00:00,  4.95it/s]\n",
      " 20%|██        | 1/5 [00:00<00:00,  5.59it/s]L019\n",
      "100%|██████████| 5/5 [00:00<00:00,  6.19it/s]\n",
      " 25%|██▌       | 1/4 [00:00<00:00,  5.00it/s]L033\n",
      "100%|██████████| 4/4 [00:00<00:00,  5.57it/s]\n",
      " 33%|███▎      | 1/3 [00:00<00:00,  6.01it/s]L049\n",
      "100%|██████████| 3/3 [00:00<00:00,  6.30it/s]\n",
      " 50%|█████     | 1/2 [00:00<00:00,  7.79it/s]L056\n",
      "100%|██████████| 2/2 [00:00<00:00,  7.94it/s]\n",
      " 25%|██▌       | 1/4 [00:00<00:00,  6.54it/s]L057\n",
      "100%|██████████| 4/4 [00:00<00:00,  6.40it/s]\n",
      " 33%|███▎      | 2/6 [00:00<00:00, 13.52it/s]L058\n",
      "100%|██████████| 6/6 [00:00<00:00, 15.20it/s]\n",
      " 20%|██        | 1/5 [00:00<00:00,  8.76it/s]L064\n",
      "100%|██████████| 5/5 [00:00<00:00,  5.02it/s]\n",
      " 50%|█████     | 1/2 [00:00<00:00,  7.25it/s]L071\n",
      "100%|██████████| 2/2 [00:00<00:00,  7.43it/s]\n",
      " 33%|███▎      | 1/3 [00:00<00:00,  8.66it/s]L072\n",
      "100%|██████████| 3/3 [00:00<00:00,  7.97it/s]\n",
      " 33%|███▎      | 1/3 [00:00<00:00,  9.81it/s]L075\n",
      "100%|██████████| 3/3 [00:00<00:00,  7.82it/s]\n",
      " 25%|██▌       | 1/4 [00:00<00:00,  7.25it/s]L077\n",
      "100%|██████████| 4/4 [00:00<00:00,  5.13it/s]\n",
      " 33%|███▎      | 1/3 [00:00<00:00,  6.86it/s]L081\n",
      "100%|██████████| 3/3 [00:00<00:00,  7.02it/s]\n",
      " 33%|███▎      | 1/3 [00:00<00:00,  6.18it/s]L107\n",
      "100%|██████████| 3/3 [00:00<00:00,  5.38it/s]\n",
      " 33%|███▎      | 1/3 [00:00<00:00,  6.09it/s]L110\n",
      "100%|██████████| 3/3 [00:00<00:00,  6.75it/s]\n",
      " 25%|██▌       | 1/4 [00:00<00:00,  6.67it/s]L114\n",
      "100%|██████████| 4/4 [00:00<00:00,  6.35it/s]\n",
      " 25%|██▌       | 1/4 [00:00<00:00,  7.58it/s]L116\n",
      "100%|██████████| 4/4 [00:00<00:00,  7.89it/s]\n",
      " 25%|██▌       | 1/4 [00:00<00:00,  6.28it/s]L123\n",
      "100%|██████████| 4/4 [00:00<00:00,  7.69it/s]\n",
      "  0%|          | 0/4 [00:00<?, ?it/s]L125\n",
      "100%|██████████| 4/4 [00:00<00:00,  5.11it/s]\n",
      "  0%|          | 0/2 [00:00<?, ?it/s]L131\n",
      "100%|██████████| 2/2 [00:00<00:00,  5.36it/s]\n",
      " 25%|██▌       | 1/4 [00:00<00:00,  6.67it/s]L134\n",
      "100%|██████████| 4/4 [00:00<00:00,  6.85it/s]\n",
      " 50%|█████     | 2/4 [00:00<00:00, 16.96it/s]L145\n",
      "100%|██████████| 4/4 [00:00<00:00, 16.87it/s]\n",
      "  0%|          | 0/3 [00:00<?, ?it/s]L148\n",
      "100%|██████████| 3/3 [00:00<00:00,  5.68it/s]\n",
      "  0%|          | 0/5 [00:00<?, ?it/s]L150\n",
      "100%|██████████| 5/5 [00:00<00:00,  5.73it/s]\n",
      " 50%|█████     | 1/2 [00:00<00:00,  6.71it/s]L160\n",
      "100%|██████████| 2/2 [00:00<00:00,  6.99it/s]\n",
      " 25%|██▌       | 1/4 [00:00<00:00,  8.30it/s]L170\n",
      "100%|██████████| 4/4 [00:00<00:00,  7.81it/s]\n",
      "  0%|          | 0/3 [00:00<?, ?it/s]L175\n",
      "100%|██████████| 3/3 [00:00<00:00,  6.34it/s]\n",
      " 25%|██▌       | 1/4 [00:00<00:00,  5.49it/s]L178\n",
      "100%|██████████| 4/4 [00:00<00:00,  6.42it/s]\n",
      " 33%|███▎      | 1/3 [00:00<00:00,  6.67it/s]L179\n",
      "100%|██████████| 3/3 [00:00<00:00,  7.60it/s]\n",
      " 50%|█████     | 2/4 [00:00<00:00, 12.51it/s]L186\n",
      "100%|██████████| 4/4 [00:00<00:00, 11.65it/s]\n",
      " 25%|██▌       | 1/4 [00:00<00:00,  6.67it/s]L187\n",
      "100%|██████████| 4/4 [00:00<00:00,  7.28it/s]\n",
      " 20%|██        | 1/5 [00:00<00:00,  6.35it/s]L193\n",
      "100%|██████████| 5/5 [00:00<00:00,  6.92it/s]\n",
      " 33%|███▎      | 1/3 [00:00<00:00,  9.71it/s]L203\n",
      "100%|██████████| 3/3 [00:00<00:00,  7.84it/s]\n",
      " 33%|███▎      | 1/3 [00:00<00:00,  5.61it/s]L209\n",
      "100%|██████████| 3/3 [00:00<00:00,  5.97it/s]\n",
      " 33%|███▎      | 1/3 [00:00<00:00,  8.61it/s]L210\n",
      "100%|██████████| 3/3 [00:00<00:00,  7.21it/s]\n",
      " 20%|██        | 1/5 [00:00<00:00,  6.14it/s]L212\n",
      "100%|██████████| 5/5 [00:00<00:00,  5.74it/s]\n",
      " 25%|██▌       | 1/4 [00:00<00:00,  5.64it/s]L219\n",
      "100%|██████████| 4/4 [00:00<00:00,  6.52it/s]\n",
      " 50%|█████     | 2/4 [00:00<00:00, 15.50it/s]L220\n",
      "100%|██████████| 4/4 [00:00<00:00, 15.74it/s]\n",
      " 50%|█████     | 1/2 [00:00<00:00,  5.59it/s]L221\n",
      "100%|██████████| 2/2 [00:00<00:00,  5.45it/s]\n",
      " 33%|███▎      | 1/3 [00:00<00:00,  8.83it/s]L229\n",
      "100%|██████████| 3/3 [00:00<00:00,  8.64it/s]\n",
      "  0%|          | 0/5 [00:00<?, ?it/s]L232\n",
      "100%|██████████| 5/5 [00:00<00:00,  5.96it/s]\n",
      " 33%|███▎      | 1/3 [00:00<00:00,  8.03it/s]L237\n",
      "100%|██████████| 3/3 [00:00<00:00,  6.26it/s]\n",
      " 33%|███▎      | 1/3 [00:00<00:00,  6.25it/s]L241\n",
      "100%|██████████| 3/3 [00:00<00:00,  6.16it/s]\n",
      " 25%|██▌       | 1/4 [00:00<00:00,  6.30it/s]L248\n",
      "100%|██████████| 4/4 [00:00<00:00,  7.29it/s]\n",
      "  0%|          | 0/4 [00:00<?, ?it/s]L266\n",
      "100%|██████████| 4/4 [00:00<00:00,  5.57it/s]\n",
      " 20%|██        | 1/5 [00:00<00:00,  7.86it/s]L273\n",
      "100%|██████████| 5/5 [00:00<00:00,  7.74it/s]\n",
      " 25%|██▌       | 1/4 [00:00<00:00,  5.01it/s]L277\n",
      "100%|██████████| 4/4 [00:00<00:00,  6.16it/s]\n",
      "  0%|          | 0/4 [00:00<?, ?it/s]L299\n",
      "100%|██████████| 4/4 [00:00<00:00,  5.38it/s]一共182组图像。\n",
      "\n"
     ]
    }
   ],
   "source": [
    "count = 0\n",
    "sep = 40  #抽样间隔\n",
    "\n",
    "root = r'E:\\NBIA\\LDCT-and-Projection-data'\n",
    "Noise_save_path = r'E:\\NBIA\\Sampling\\Noise_blue'\n",
    "if not os.path.isdir(Noise_save_path):\n",
    "    os.mkdir(Noise_save_path)\n",
    "\n",
    "NDCT_lable_str = 'Full dose images'\n",
    "LDCT_lable_str = 'Low Dose Images'\n",
    "patient_list = os.listdir(root)\n",
    "print('一共{}例，每隔{}张图像分层抽样'.format(len(patient_list), sep))\n",
    "for patient in patient_list:\n",
    "    patient_root = root + '\\\\' + patient + '\\\\' + os.listdir(root + '\\\\' + patient)[0]\n",
    "    paths = os.listdir(patient_root)\n",
    "    if NDCT_lable_str in paths[0]:\n",
    "        ND_path = patient_root + '\\\\' + paths[0]\n",
    "        LD_path = patient_root + '\\\\' + paths[1]\n",
    "    elif NDCT_lable_str in paths[1]:\n",
    "        ND_path = patient_root + '\\\\' + paths[1]\n",
    "        LD_path = patient_root + '\\\\' + paths[0]\n",
    "        \n",
    "#     print(ND_path, LD_path, sep = '\\n')\n",
    "    ND_list = os.listdir(ND_path)\n",
    "    LD_list = os.listdir(LD_path)\n",
    "    \n",
    "    idx = random.randint(0, 9)\n",
    "    dcm_num = len(os.listdir(ND_path))//sep\n",
    "    if len(os.listdir(ND_path))%10 >= (idx+1):\n",
    "        dcm_num += 1\n",
    "        \n",
    "    print(patient)\n",
    "    for i in trange(dcm_num):\n",
    "        if ND_list[idx] != LD_list[idx]:\n",
    "            break\n",
    "        Noise_new_name = 'Noise-' + patient +'_'+ ND_list[idx]\n",
    "        nd = os.path.join(ND_path, ND_list[idx])\n",
    "        ld = os.path.join(LD_path, LD_list[idx])  \n",
    "        Noise = os.path.join(Noise_save_path, Noise_new_name)\n",
    "        \n",
    "        nd_ds = pydicom.filereader.dcmread(nd)\n",
    "        ld_ds = pydicom.filereader.dcmread(ld)\n",
    "        ld_img = ld_ds.pixel_array.astype(np.int16)\n",
    "        nd_img = nd_ds.pixel_array.astype(np.int16)\n",
    "        noise_img = ld_img - nd_img\n",
    "        \n",
    "        plt.imsave('{}.jpg'.format(Noise), noise_img[32:-32, 32:-32], cmap = plt.cm.Greys_r) \n",
    "        \n",
    "        idx += 10\n",
    "        count += 1\n",
    "print('一共{}组图像。'.format(count))"
   ]
  },
  {
   "cell_type": "code",
   "execution_count": 4,
   "metadata": {
    "scrolled": true
   },
   "outputs": [
    {
     "name": "stderr",
     "output_type": "stream",
     "text": [
      "  2%|███▏                                                                                                                                                    | 2/97 [00:00<00:09,  9.80it/s]"
     ]
    },
    {
     "name": "stdout",
     "output_type": "stream",
     "text": [
      "一共50例，每隔1张图像分层抽样\n",
      "L004\n"
     ]
    },
    {
     "name": "stderr",
     "output_type": "stream",
     "text": [
      "100%|███████████████████████████████████████████████████████████████████████████████████████████████████████████████████████████████████████████████████████| 97/97 [00:07<00:00, 13.41it/s]\n",
      "  1%|██                                                                                                                                                     | 2/144 [00:00<00:07, 18.46it/s]"
     ]
    },
    {
     "name": "stdout",
     "output_type": "stream",
     "text": [
      "L006\n"
     ]
    },
    {
     "name": "stderr",
     "output_type": "stream",
     "text": [
      "100%|█████████████████████████████████████████████████████████████████████████████████████████████████████████████████████████████████████████████████████| 144/144 [00:11<00:00, 12.43it/s]\n",
      "  1%|█▉                                                                                                                                                     | 2/153 [00:00<00:10, 14.29it/s]"
     ]
    },
    {
     "name": "stdout",
     "output_type": "stream",
     "text": [
      "L014\n"
     ]
    },
    {
     "name": "stderr",
     "output_type": "stream",
     "text": [
      "100%|█████████████████████████████████████████████████████████████████████████████████████████████████████████████████████████████████████████████████████| 153/153 [00:11<00:00, 12.78it/s]\n",
      "  1%|█▊                                                                                                                                                     | 2/168 [00:00<00:12, 13.31it/s]"
     ]
    },
    {
     "name": "stdout",
     "output_type": "stream",
     "text": [
      "L019\n"
     ]
    },
    {
     "name": "stderr",
     "output_type": "stream",
     "text": [
      "100%|█████████████████████████████████████████████████████████████████████████████████████████████████████████████████████████████████████████████████████| 168/168 [00:12<00:00, 13.45it/s]\n",
      "  0%|                                                                                                                                                               | 0/161 [00:00<?, ?it/s]"
     ]
    },
    {
     "name": "stdout",
     "output_type": "stream",
     "text": [
      "L033\n"
     ]
    },
    {
     "name": "stderr",
     "output_type": "stream",
     "text": [
      "100%|█████████████████████████████████████████████████████████████████████████████████████████████████████████████████████████████████████████████████████| 161/161 [00:14<00:00, 10.96it/s]\n",
      "  1%|██                                                                                                                                                     | 2/146 [00:00<00:10, 14.16it/s]"
     ]
    },
    {
     "name": "stdout",
     "output_type": "stream",
     "text": [
      "L049\n"
     ]
    },
    {
     "name": "stderr",
     "output_type": "stream",
     "text": [
      "100%|█████████████████████████████████████████████████████████████████████████████████████████████████████████████████████████████████████████████████████| 146/146 [00:06<00:00, 21.90it/s]\n",
      "  1%|█▋                                                                                                                                                      | 1/91 [00:00<00:11,  7.78it/s]"
     ]
    },
    {
     "name": "stdout",
     "output_type": "stream",
     "text": [
      "L056\n"
     ]
    },
    {
     "name": "stderr",
     "output_type": "stream",
     "text": [
      "100%|███████████████████████████████████████████████████████████████████████████████████████████████████████████████████████████████████████████████████████| 91/91 [00:04<00:00, 20.87it/s]\n",
      "  0%|                                                                                                                                                               | 0/147 [00:00<?, ?it/s]"
     ]
    },
    {
     "name": "stdout",
     "output_type": "stream",
     "text": [
      "L057\n"
     ]
    },
    {
     "name": "stderr",
     "output_type": "stream",
     "text": [
      "100%|█████████████████████████████████████████████████████████████████████████████████████████████████████████████████████████████████████████████████████| 147/147 [00:09<00:00, 15.92it/s]\n",
      "  0%|▋                                                                                                                                                      | 1/209 [00:00<00:23,  8.81it/s]"
     ]
    },
    {
     "name": "stdout",
     "output_type": "stream",
     "text": [
      "L058\n"
     ]
    },
    {
     "name": "stderr",
     "output_type": "stream",
     "text": [
      "100%|█████████████████████████████████████████████████████████████████████████████████████████████████████████████████████████████████████████████████████| 209/209 [00:14<00:00, 14.23it/s]\n",
      "  1%|██▏                                                                                                                                                    | 3/208 [00:00<00:07, 28.41it/s]"
     ]
    },
    {
     "name": "stdout",
     "output_type": "stream",
     "text": [
      "L064\n"
     ]
    },
    {
     "name": "stderr",
     "output_type": "stream",
     "text": [
      "100%|█████████████████████████████████████████████████████████████████████████████████████████████████████████████████████████████████████████████████████| 208/208 [00:11<00:00, 18.68it/s]\n",
      "  2%|███▏                                                                                                                                                    | 2/96 [00:00<00:05, 15.79it/s]"
     ]
    },
    {
     "name": "stdout",
     "output_type": "stream",
     "text": [
      "L071\n"
     ]
    },
    {
     "name": "stderr",
     "output_type": "stream",
     "text": [
      "100%|███████████████████████████████████████████████████████████████████████████████████████████████████████████████████████████████████████████████████████| 96/96 [00:04<00:00, 20.05it/s]\n",
      "  1%|██▏                                                                                                                                                    | 2/140 [00:00<00:09, 14.19it/s]"
     ]
    },
    {
     "name": "stdout",
     "output_type": "stream",
     "text": [
      "L072\n"
     ]
    },
    {
     "name": "stderr",
     "output_type": "stream",
     "text": [
      "100%|█████████████████████████████████████████████████████████████████████████████████████████████████████████████████████████████████████████████████████| 140/140 [00:07<00:00, 18.46it/s]\n",
      "  1%|██▏                                                                                                                                                    | 2/136 [00:00<00:08, 16.44it/s]"
     ]
    },
    {
     "name": "stdout",
     "output_type": "stream",
     "text": [
      "L075\n"
     ]
    },
    {
     "name": "stderr",
     "output_type": "stream",
     "text": [
      "100%|█████████████████████████████████████████████████████████████████████████████████████████████████████████████████████████████████████████████████████| 136/136 [00:07<00:00, 18.68it/s]\n",
      "  1%|█▉                                                                                                                                                     | 2/160 [00:00<00:09, 17.44it/s]"
     ]
    },
    {
     "name": "stdout",
     "output_type": "stream",
     "text": [
      "L077\n"
     ]
    },
    {
     "name": "stderr",
     "output_type": "stream",
     "text": [
      "100%|█████████████████████████████████████████████████████████████████████████████████████████████████████████████████████████████████████████████████████| 160/160 [00:08<00:00, 19.77it/s]\n",
      "  2%|███▍                                                                                                                                                   | 3/131 [00:00<00:05, 22.91it/s]"
     ]
    },
    {
     "name": "stdout",
     "output_type": "stream",
     "text": [
      "L081\n"
     ]
    },
    {
     "name": "stderr",
     "output_type": "stream",
     "text": [
      "100%|█████████████████████████████████████████████████████████████████████████████████████████████████████████████████████████████████████████████████████| 131/131 [00:07<00:00, 17.89it/s]\n",
      "  0%|                                                                                                                                                               | 0/150 [00:00<?, ?it/s]"
     ]
    },
    {
     "name": "stdout",
     "output_type": "stream",
     "text": [
      "L107\n"
     ]
    },
    {
     "name": "stderr",
     "output_type": "stream",
     "text": [
      "100%|█████████████████████████████████████████████████████████████████████████████████████████████████████████████████████████████████████████████████████| 150/150 [00:07<00:00, 19.88it/s]\n",
      "  3%|████▌                                                                                                                                                  | 4/132 [00:00<00:03, 35.61it/s]"
     ]
    },
    {
     "name": "stdout",
     "output_type": "stream",
     "text": [
      "L110\n"
     ]
    },
    {
     "name": "stderr",
     "output_type": "stream",
     "text": [
      "100%|█████████████████████████████████████████████████████████████████████████████████████████████████████████████████████████████████████████████████████| 132/132 [00:05<00:00, 23.42it/s]\n",
      "  1%|█▉                                                                                                                                                     | 2/158 [00:00<00:09, 15.63it/s]"
     ]
    },
    {
     "name": "stdout",
     "output_type": "stream",
     "text": [
      "L114\n"
     ]
    },
    {
     "name": "stderr",
     "output_type": "stream",
     "text": [
      "100%|█████████████████████████████████████████████████████████████████████████████████████████████████████████████████████████████████████████████████████| 158/158 [00:08<00:00, 17.69it/s]\n",
      "  2%|██▋                                                                                                                                                    | 3/168 [00:00<00:10, 16.12it/s]"
     ]
    },
    {
     "name": "stdout",
     "output_type": "stream",
     "text": [
      "L116\n"
     ]
    },
    {
     "name": "stderr",
     "output_type": "stream",
     "text": [
      "100%|█████████████████████████████████████████████████████████████████████████████████████████████████████████████████████████████████████████████████████| 168/168 [00:09<00:00, 17.53it/s]\n",
      "  1%|██                                                                                                                                                     | 2/149 [00:00<00:07, 18.40it/s]"
     ]
    },
    {
     "name": "stdout",
     "output_type": "stream",
     "text": [
      "L123\n"
     ]
    },
    {
     "name": "stderr",
     "output_type": "stream",
     "text": [
      "100%|█████████████████████████████████████████████████████████████████████████████████████████████████████████████████████████████████████████████████████| 149/149 [00:09<00:00, 15.81it/s]\n",
      "  1%|██                                                                                                                                                     | 2/148 [00:00<00:07, 19.47it/s]"
     ]
    },
    {
     "name": "stdout",
     "output_type": "stream",
     "text": [
      "L125\n"
     ]
    },
    {
     "name": "stderr",
     "output_type": "stream",
     "text": [
      "100%|█████████████████████████████████████████████████████████████████████████████████████████████████████████████████████████████████████████████████████| 148/148 [00:08<00:00, 17.26it/s]\n",
      "  2%|███▍                                                                                                                                                    | 2/90 [00:00<00:08, 10.66it/s]"
     ]
    },
    {
     "name": "stdout",
     "output_type": "stream",
     "text": [
      "L131\n"
     ]
    },
    {
     "name": "stderr",
     "output_type": "stream",
     "text": [
      "100%|███████████████████████████████████████████████████████████████████████████████████████████████████████████████████████████████████████████████████████| 90/90 [00:08<00:00, 10.60it/s]\n",
      "  0%|                                                                                                                                                               | 0/164 [00:00<?, ?it/s]"
     ]
    },
    {
     "name": "stdout",
     "output_type": "stream",
     "text": [
      "L134\n"
     ]
    },
    {
     "name": "stderr",
     "output_type": "stream",
     "text": [
      "100%|█████████████████████████████████████████████████████████████████████████████████████████████████████████████████████████████████████████████████████| 164/164 [00:11<00:00, 14.59it/s]\n",
      "  1%|█▉                                                                                                                                                     | 2/159 [00:00<00:09, 16.17it/s]"
     ]
    },
    {
     "name": "stdout",
     "output_type": "stream",
     "text": [
      "L145\n"
     ]
    },
    {
     "name": "stderr",
     "output_type": "stream",
     "text": [
      "100%|█████████████████████████████████████████████████████████████████████████████████████████████████████████████████████████████████████████████████████| 159/159 [00:08<00:00, 18.32it/s]\n",
      "  1%|█▉                                                                                                                                                     | 2/157 [00:00<00:08, 18.68it/s]"
     ]
    },
    {
     "name": "stdout",
     "output_type": "stream",
     "text": [
      "L148\n"
     ]
    },
    {
     "name": "stderr",
     "output_type": "stream",
     "text": [
      "100%|█████████████████████████████████████████████████████████████████████████████████████████████████████████████████████████████████████████████████████| 157/157 [00:09<00:00, 16.91it/s]\n",
      "  1%|█▋                                                                                                                                                     | 2/175 [00:00<00:09, 19.12it/s]"
     ]
    },
    {
     "name": "stdout",
     "output_type": "stream",
     "text": [
      "L150\n"
     ]
    },
    {
     "name": "stderr",
     "output_type": "stream",
     "text": [
      "100%|█████████████████████████████████████████████████████████████████████████████████████████████████████████████████████████████████████████████████████| 175/175 [00:08<00:00, 21.45it/s]\n",
      "  3%|████                                                                                                                                                   | 3/113 [00:00<00:05, 21.49it/s]"
     ]
    },
    {
     "name": "stdout",
     "output_type": "stream",
     "text": [
      "L160\n"
     ]
    },
    {
     "name": "stderr",
     "output_type": "stream",
     "text": [
      "100%|█████████████████████████████████████████████████████████████████████████████████████████████████████████████████████████████████████████████████████| 113/113 [00:05<00:00, 20.96it/s]\n",
      "  1%|██▏                                                                                                                                                    | 2/136 [00:00<00:07, 18.07it/s]"
     ]
    },
    {
     "name": "stdout",
     "output_type": "stream",
     "text": [
      "L170\n"
     ]
    },
    {
     "name": "stderr",
     "output_type": "stream",
     "text": [
      "100%|█████████████████████████████████████████████████████████████████████████████████████████████████████████████████████████████████████████████████████| 136/136 [00:07<00:00, 17.12it/s]\n",
      "  2%|██▉                                                                                                                                                    | 3/152 [00:00<00:06, 23.11it/s]"
     ]
    },
    {
     "name": "stdout",
     "output_type": "stream",
     "text": [
      "L175\n"
     ]
    },
    {
     "name": "stderr",
     "output_type": "stream",
     "text": [
      "100%|█████████████████████████████████████████████████████████████████████████████████████████████████████████████████████████████████████████████████████| 152/152 [00:07<00:00, 19.94it/s]\n",
      "  1%|██▏                                                                                                                                                    | 2/139 [00:00<00:07, 18.01it/s]"
     ]
    },
    {
     "name": "stdout",
     "output_type": "stream",
     "text": [
      "L178\n"
     ]
    },
    {
     "name": "stderr",
     "output_type": "stream",
     "text": [
      "100%|█████████████████████████████████████████████████████████████████████████████████████████████████████████████████████████████████████████████████████| 139/139 [00:08<00:00, 15.98it/s]\n",
      "  2%|███▏                                                                                                                                                   | 3/142 [00:00<00:06, 22.79it/s]"
     ]
    },
    {
     "name": "stdout",
     "output_type": "stream",
     "text": [
      "L179\n"
     ]
    },
    {
     "name": "stderr",
     "output_type": "stream",
     "text": [
      "100%|█████████████████████████████████████████████████████████████████████████████████████████████████████████████████████████████████████████████████████| 142/142 [00:09<00:00, 15.29it/s]\n",
      "  2%|███▋                                                                                                                                                   | 4/166 [00:00<00:04, 33.34it/s]"
     ]
    },
    {
     "name": "stdout",
     "output_type": "stream",
     "text": [
      "L186\n"
     ]
    },
    {
     "name": "stderr",
     "output_type": "stream",
     "text": [
      "100%|█████████████████████████████████████████████████████████████████████████████████████████████████████████████████████████████████████████████████████| 166/166 [00:08<00:00, 20.68it/s]\n",
      "  4%|█████▊                                                                                                                                                 | 5/129 [00:00<00:03, 39.79it/s]"
     ]
    },
    {
     "name": "stdout",
     "output_type": "stream",
     "text": [
      "L187\n"
     ]
    },
    {
     "name": "stderr",
     "output_type": "stream",
     "text": [
      "100%|█████████████████████████████████████████████████████████████████████████████████████████████████████████████████████████████████████████████████████| 129/129 [00:05<00:00, 23.55it/s]\n",
      "  1%|█▊                                                                                                                                                     | 2/167 [00:00<00:09, 18.07it/s]"
     ]
    },
    {
     "name": "stdout",
     "output_type": "stream",
     "text": [
      "L193\n"
     ]
    },
    {
     "name": "stderr",
     "output_type": "stream",
     "text": [
      "100%|█████████████████████████████████████████████████████████████████████████████████████████████████████████████████████████████████████████████████████| 167/167 [00:16<00:00,  9.86it/s]\n",
      "  1%|█                                                                                                                                                      | 1/147 [00:00<00:22,  6.40it/s]"
     ]
    },
    {
     "name": "stdout",
     "output_type": "stream",
     "text": [
      "L203\n"
     ]
    },
    {
     "name": "stderr",
     "output_type": "stream",
     "text": [
      "100%|█████████████████████████████████████████████████████████████████████████████████████████████████████████████████████████████████████████████████████| 147/147 [00:09<00:00, 15.35it/s]\n",
      "  3%|████▋                                                                                                                                                   | 3/97 [00:00<00:04, 19.29it/s]"
     ]
    },
    {
     "name": "stdout",
     "output_type": "stream",
     "text": [
      "L209\n"
     ]
    },
    {
     "name": "stderr",
     "output_type": "stream",
     "text": [
      "100%|███████████████████████████████████████████████████████████████████████████████████████████████████████████████████████████████████████████████████████| 97/97 [00:06<00:00, 15.92it/s]\n",
      "  2%|███                                                                                                                                                    | 3/147 [00:00<00:06, 20.99it/s]"
     ]
    },
    {
     "name": "stdout",
     "output_type": "stream",
     "text": [
      "L210\n"
     ]
    },
    {
     "name": "stderr",
     "output_type": "stream",
     "text": [
      "100%|█████████████████████████████████████████████████████████████████████████████████████████████████████████████████████████████████████████████████████| 147/147 [00:09<00:00, 15.25it/s]\n",
      "  0%|                                                                                                                                                               | 0/203 [00:00<?, ?it/s]"
     ]
    },
    {
     "name": "stdout",
     "output_type": "stream",
     "text": [
      "L212\n"
     ]
    },
    {
     "name": "stderr",
     "output_type": "stream",
     "text": [
      "100%|█████████████████████████████████████████████████████████████████████████████████████████████████████████████████████████████████████████████████████| 203/203 [00:11<00:00, 17.42it/s]\n",
      "  2%|██▉                                                                                                                                                    | 3/152 [00:00<00:06, 21.98it/s]"
     ]
    },
    {
     "name": "stdout",
     "output_type": "stream",
     "text": [
      "L219\n"
     ]
    },
    {
     "name": "stderr",
     "output_type": "stream",
     "text": [
      "100%|█████████████████████████████████████████████████████████████████████████████████████████████████████████████████████████████████████████████████████| 152/152 [00:09<00:00, 16.16it/s]\n",
      "  1%|█▉                                                                                                                                                     | 2/155 [00:00<00:14, 10.39it/s]"
     ]
    },
    {
     "name": "stdout",
     "output_type": "stream",
     "text": [
      "L220\n"
     ]
    },
    {
     "name": "stderr",
     "output_type": "stream",
     "text": [
      "100%|█████████████████████████████████████████████████████████████████████████████████████████████████████████████████████████████████████████████████████| 155/155 [00:07<00:00, 22.12it/s]\n",
      "  2%|███▏                                                                                                                                                    | 2/97 [00:00<00:04, 19.28it/s]"
     ]
    },
    {
     "name": "stdout",
     "output_type": "stream",
     "text": [
      "L221\n"
     ]
    },
    {
     "name": "stderr",
     "output_type": "stream",
     "text": [
      "100%|███████████████████████████████████████████████████████████████████████████████████████████████████████████████████████████████████████████████████████| 97/97 [00:04<00:00, 19.93it/s]\n",
      "  1%|██▎                                                                                                                                                    | 2/134 [00:00<00:08, 16.18it/s]"
     ]
    },
    {
     "name": "stdout",
     "output_type": "stream",
     "text": [
      "L229\n"
     ]
    },
    {
     "name": "stderr",
     "output_type": "stream",
     "text": [
      "100%|█████████████████████████████████████████████████████████████████████████████████████████████████████████████████████████████████████████████████████| 134/134 [00:08<00:00, 14.92it/s]\n",
      "  2%|██▋                                                                                                                                                    | 3/167 [00:00<00:06, 26.15it/s]"
     ]
    },
    {
     "name": "stdout",
     "output_type": "stream",
     "text": [
      "L232\n"
     ]
    },
    {
     "name": "stderr",
     "output_type": "stream",
     "text": [
      "100%|█████████████████████████████████████████████████████████████████████████████████████████████████████████████████████████████████████████████████████| 167/167 [00:08<00:00, 18.90it/s]\n",
      "  1%|██▏                                                                                                                                                    | 2/139 [00:00<00:11, 12.34it/s]"
     ]
    },
    {
     "name": "stdout",
     "output_type": "stream",
     "text": [
      "L237\n"
     ]
    },
    {
     "name": "stderr",
     "output_type": "stream",
     "text": [
      "100%|█████████████████████████████████████████████████████████████████████████████████████████████████████████████████████████████████████████████████████| 139/139 [00:07<00:00, 17.84it/s]\n",
      "  3%|███▉                                                                                                                                                   | 4/153 [00:00<00:04, 35.33it/s]"
     ]
    },
    {
     "name": "stdout",
     "output_type": "stream",
     "text": [
      "L241\n"
     ]
    },
    {
     "name": "stderr",
     "output_type": "stream",
     "text": [
      "100%|█████████████████████████████████████████████████████████████████████████████████████████████████████████████████████████████████████████████████████| 153/153 [00:05<00:00, 27.26it/s]\n",
      "  1%|█▊                                                                                                                                                     | 2/165 [00:00<00:12, 12.86it/s]"
     ]
    },
    {
     "name": "stdout",
     "output_type": "stream",
     "text": [
      "L248\n"
     ]
    },
    {
     "name": "stderr",
     "output_type": "stream",
     "text": [
      "100%|█████████████████████████████████████████████████████████████████████████████████████████████████████████████████████████████████████████████████████| 165/165 [00:17<00:00,  9.67it/s]\n",
      "  2%|██▌                                                                                                                                                    | 3/175 [00:00<00:08, 19.80it/s]"
     ]
    },
    {
     "name": "stdout",
     "output_type": "stream",
     "text": [
      "L266\n"
     ]
    },
    {
     "name": "stderr",
     "output_type": "stream",
     "text": [
      "100%|█████████████████████████████████████████████████████████████████████████████████████████████████████████████████████████████████████████████████████| 175/175 [00:14<00:00, 12.35it/s]\n",
      "  2%|██▊                                                                                                                                                    | 3/163 [00:00<00:08, 19.14it/s]"
     ]
    },
    {
     "name": "stdout",
     "output_type": "stream",
     "text": [
      "L273\n"
     ]
    },
    {
     "name": "stderr",
     "output_type": "stream",
     "text": [
      "100%|█████████████████████████████████████████████████████████████████████████████████████████████████████████████████████████████████████████████████████| 163/163 [00:10<00:00, 15.61it/s]\n",
      "  1%|██                                                                                                                                                     | 2/151 [00:00<00:07, 18.87it/s]"
     ]
    },
    {
     "name": "stdout",
     "output_type": "stream",
     "text": [
      "L277\n"
     ]
    },
    {
     "name": "stderr",
     "output_type": "stream",
     "text": [
      "100%|█████████████████████████████████████████████████████████████████████████████████████████████████████████████████████████████████████████████████████| 151/151 [00:08<00:00, 18.45it/s]\n",
      "  1%|█▉                                                                                                                                                     | 2/154 [00:00<00:08, 17.76it/s]"
     ]
    },
    {
     "name": "stdout",
     "output_type": "stream",
     "text": [
      "L299\n"
     ]
    },
    {
     "name": "stderr",
     "output_type": "stream",
     "text": [
      "100%|█████████████████████████████████████████████████████████████████████████████████████████████████████████████████████████████████████████████████████| 154/154 [00:05<00:00, 25.96it/s]"
     ]
    },
    {
     "name": "stdout",
     "output_type": "stream",
     "text": [
      "一共7380组图像。\n"
     ]
    },
    {
     "name": "stderr",
     "output_type": "stream",
     "text": [
      "\n"
     ]
    }
   ],
   "source": [
    "count = 0\n",
    "sep = 1\n",
    "if not os.path.isdir(r'E:\\NBIA\\Sampling\\LDCT_ALL'):\n",
    "    os.mkdir(r'E:\\NBIA\\Sampling\\LDCT_ALL')\n",
    "    \n",
    "root = r'E:\\NBIA\\LDCT-and-Projection-data'\n",
    "LDCT_save_path = r'E:\\NBIA\\Sampling\\LDCT_ALL'\n",
    "\n",
    "LDCT_lable_str = 'Low Dose Images'\n",
    "patient_list = os.listdir(root)\n",
    "print('一共{}例，每隔{}张图像分层抽样'.format(len(patient_list), sep))\n",
    "for patient in patient_list:\n",
    "    patient_root = root + '\\\\' + patient + '\\\\' + os.listdir(root + '\\\\' + patient)[0]\n",
    "    paths = os.listdir(patient_root)\n",
    "    if LDCT_lable_str in paths[0]:\n",
    "        LD_path = patient_root + '\\\\' + paths[1]\n",
    "    elif LDCT_lable_str in paths[1]:\n",
    "        LD_path = patient_root + '\\\\' + paths[0]\n",
    "        \n",
    "    LD_list = os.listdir(LD_path)\n",
    "    dcm_num = len(LD_list)\n",
    "        \n",
    "    print(patient)\n",
    "    for i in trange(dcm_num):\n",
    "        LD_new_name = 'LDCT-' + patient +'_'+ LD_list[i]\n",
    "        shutil.copy(os.path.join(LD_path, LD_list[i]),os.path.join(LDCT_save_path, LD_new_name)) \n",
    "        count += 1\n",
    "print('一共{}组图像。'.format(count))"
   ]
  }
 ],
 "metadata": {
  "kernelspec": {
   "display_name": "Python 3",
   "language": "python",
   "name": "python3"
  },
  "language_info": {
   "codemirror_mode": {
    "name": "ipython",
    "version": 3
   },
   "file_extension": ".py",
   "mimetype": "text/x-python",
   "name": "python",
   "nbconvert_exporter": "python",
   "pygments_lexer": "ipython3",
   "version": "3.8.5"
  }
 },
 "nbformat": 4,
 "nbformat_minor": 4
}