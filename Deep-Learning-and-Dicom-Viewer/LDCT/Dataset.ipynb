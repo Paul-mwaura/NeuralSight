{
 "cells": [
  {
   "cell_type": "markdown",
   "metadata": {},
   "source": [
    "# 一、构建数据集和图像预处理"
   ]
  },
  {
   "cell_type": "code",
   "execution_count": 13,
   "metadata": {},
   "outputs": [],
   "source": [
    "import os\n",
    "\n",
    "import numpy as np\n",
    "import pydicom.filereader\n",
    "from tqdm import trange\n",
    "\n",
    "import torch\n",
    "import torchvision\n",
    "import torchvision.transforms as transforms"
   ]
  },
  {
   "cell_type": "markdown",
   "metadata": {},
   "source": [
    "## 1、继承torchvision.transforms.Compose类"
   ]
  },
  {
   "cell_type": "code",
   "execution_count": 14,
   "metadata": {},
   "outputs": [],
   "source": [
    "class My_Compose(transforms.Compose):\n",
    "    def __init__(self, transforms):\n",
    "        super().__init__(self)\n",
    "        self.transforms = transforms\n",
    "\n",
    "    def __call__(self, image):\n",
    "        for t in self.transforms:\n",
    "            image = t(image)\n",
    "        return image\n",
    "    \n",
    "class My_ToTensor(transforms.ToTensor):\n",
    "    def __init__(self):\n",
    "        super().__init__()\n",
    "        \n",
    "    def __call__(self, image):\n",
    "        return self.to_tensor(image)\n",
    "    \n",
    "    @staticmethod\n",
    "    def to_tensor(pic):\n",
    "        pic = pic[:, :, None]\n",
    "        img = torch.from_numpy(pic.transpose((2, 0, 1))).contiguous()\n",
    "        return img.float().div(4096)\n",
    "\n",
    "class My_Normalize(transforms.Normalize):\n",
    "    def __init__(self, mean, std):\n",
    "        self.mean = mean\n",
    "        self.std = std\n",
    "\n",
    "    def __call__(self, image):\n",
    "        image = transforms.functional.normalize(image, mean=self.mean, std=self.std)\n",
    "        return image"
   ]
  },
  {
   "cell_type": "markdown",
   "metadata": {},
   "source": [
    "## 2、继承torch.utils.data.Dataset类"
   ]
  },
  {
   "cell_type": "code",
   "execution_count": 15,
   "metadata": {
    "slideshow": {
     "slide_type": "-"
    }
   },
   "outputs": [],
   "source": [
    "class Mydataset(torch.utils.data.Dataset):\n",
    "    '''读取LDCT和NDCT图像，进行归一化和标准化处理，返回(LDCT, NDCT) if \"train = True\"或(LDCT, NDCT, LD_ds) if \"train = False\"元组列表'''\n",
    "    \n",
    "    def __init__(self, LDCT_root, NDCT_root, transform, normalize, train = True):\n",
    "        '''请指定LDCT和NDCT图像路径，以及图像预处理transform'''\n",
    "        super().__init__()\n",
    "        self.LDCT_root = LDCT_root\n",
    "        self.NDCT_root = NDCT_root\n",
    "        self.transform = transform\n",
    "        self.normalize = normalize\n",
    "        self.train = train\n",
    "        \n",
    "        LDCT_list = os.listdir(LDCT_root)\n",
    "        NDCT_list = os.listdir(NDCT_root)\n",
    "        self.data_path = list(zip(LDCT_list, NDCT_list))\n",
    "        \n",
    "        if len(LDCT_list) == len(NDCT_list):\n",
    "            self.len = len(LDCT_list)\n",
    "        else:\n",
    "            print('LDCT和NDCT图像数量不一致，请检查!')\n",
    "\n",
    "\n",
    "    def __getitem__(self, index):\n",
    "        '''根据索引获取image和label'''\n",
    "        LD, ND = self.data_path[index]\n",
    "        LD_path = self.LDCT_root + '\\\\' + LD\n",
    "        ND_path = self.NDCT_root + '\\\\' + ND\n",
    "        preprocessed = self.get_preprocess(LD_path, ND_path)\n",
    "        if self.train:\n",
    "            return preprocessed[0], preprocessed[1]\n",
    "        else:\n",
    "            return preprocessed[0], preprocessed[1], LD_path\n",
    "\n",
    "        \n",
    "    def __len__(self):\n",
    "        '''返回数据集长度'''\n",
    "        return self.len\n",
    "\n",
    "    def get_preprocess(self, LD_path, ND_path):\n",
    "        '''读取图像并预处理'''\n",
    "        # 读取\n",
    "        LD_ds, LD_image = self.get_dcm_array(LD_path)\n",
    "        ND_ds, ND_image = self.get_dcm_array(ND_path)\n",
    "        \n",
    "        # 归一化和标准化\n",
    "        LD_image = self.normalize(self.transform(LD_image))\n",
    "        ND_image = self.normalize(self.transform(ND_image))\n",
    "        return [LD_image, ND_image, LD_ds]\n",
    "        \n",
    "    @staticmethod\n",
    "    def get_dcm_array(path):\n",
    "        '''读取dcm，并转换为像素为CT值'''\n",
    "        ds = pydicom.filereader.dcmread(path)\n",
    "        return ds, (ds.pixel_array).astype(np.int16)"
   ]
  },
  {
   "cell_type": "markdown",
   "metadata": {},
   "source": [
    "## 3、计算图像经过my_totensor处理后的mean和std"
   ]
  },
  {
   "cell_type": "code",
   "execution_count": 19,
   "metadata": {},
   "outputs": [],
   "source": [
    "def cal_mean_and_std():\n",
    "    root = r'E:\\NBIA\\Sampling\\LDCT_ALL\\\\'\n",
    "    dcm_list = os.listdir(root)\n",
    "\n",
    "    my_totensor = My_ToTensor()\n",
    "    transform = My_Compose([my_totensor])\n",
    "\n",
    "    mean_list = []\n",
    "    std_list = []\n",
    "#     print(len(dcm_list))\n",
    "    for idx in trange(len(dcm_list)):\n",
    "        dcm = dcm_list[idx]\n",
    "        ds = pydicom.filereader.dcmread(root+dcm)\n",
    "        img = (ds.pixel_array).astype(np.int16)\n",
    "        img = transform(img)\n",
    "        mean_list.append(img.mean())\n",
    "        std_list.append(img.std())\n",
    "\n",
    "    # mean\n",
    "    print('mean_len:', len(mean_list))\n",
    "    print('mean_sum:', np.array(mean_list).sum())\n",
    "    print('mean_mean:', np.array(mean_list).sum()/len(mean_list))\n",
    "\n",
    "    # std\n",
    "    print('\\nstd_len:', len(std_list))\n",
    "    print('std_sum:', np.array(std_list).sum())\n",
    "    print('std_mean:', np.array(std_list).sum()/len(std_list))\n",
    "    print('\\n' + '*'*50)"
   ]
  },
  {
   "cell_type": "markdown",
   "metadata": {},
   "source": [
    "## 4、测试函数"
   ]
  },
  {
   "cell_type": "code",
   "execution_count": 20,
   "metadata": {},
   "outputs": [],
   "source": [
    "def test():\n",
    "    LDCT_path = r'E:\\Jupyter notebook\\LDCT\\LDCT'\n",
    "    NDCT_path = r'E:\\Jupyter notebook\\LDCT\\NDCT'\n",
    "\n",
    "    my_totensor = My_ToTensor()\n",
    "    my_normalize = My_Normalize(0.131, 0.121)\n",
    "    transform = My_Compose([my_totensor])\n",
    "    normalize = My_Compose([my_normalize])\n",
    "\n",
    "    train_set = Mydataset(LDCT_root = LDCT_path, NDCT_root = NDCT_path, \n",
    "                          matrix = 256, \n",
    "                          transform = transform, \n",
    "                          normalize = normalize)\n",
    "    train_loader = torch.utils.data.DataLoader(train_set,\n",
    "                                               batch_size = 2, \n",
    "                                               num_workers = 0,\n",
    "                                               shuffle = False,)\n",
    "    dataiter = iter(train_loader)\n",
    "    data = list(dataiter.next())\n",
    "    print(len(data))\n",
    "    for i in range(len(data[0])):\n",
    "        LD_img = data[0][i]\n",
    "        Res_img = data[1][i]\n",
    "        print('图像数量:', len(data[0]))\n",
    "        print('size:', LD_img.size()       , Res_img.size())\n",
    "        print('type:', LD_img.type()       , Res_img.type())\n",
    "        print('max:' , LD_img.max().item() , Res_img.max().item())\n",
    "        print('min:' , LD_img.min().item() , Res_img.min().item())\n",
    "        print('mean:', LD_img.mean().item(), Res_img.mean().item())\n",
    "        print('std:' , LD_img.std().item() , Res_img.std().item())\n",
    "        print('LD_img:', LD_img)\n",
    "        print('Res_img:', Res_img)"
   ]
  },
  {
   "cell_type": "markdown",
   "metadata": {},
   "source": [
    "# Test"
   ]
  },
  {
   "cell_type": "code",
   "execution_count": 21,
   "metadata": {},
   "outputs": [
    {
     "name": "stderr",
     "output_type": "stream",
     "text": [
      "100%|███████████████████████████████████████████████████████████████████████████████████████████████████████████████████████████████████████████████████| 7380/7380 [02:03<00:00, 59.80it/s]\n"
     ]
    },
    {
     "name": "stdout",
     "output_type": "stream",
     "text": [
      "mean_len: 7380\n",
      "mean_sum: 904.16345\n",
      "mean_mean: 0.12251537291984248\n",
      "\n",
      "std_len: 7380\n",
      "std_sum: 876.4656\n",
      "std_mean: 0.11876227319402101\n",
      "\n",
      "**************************************************\n"
     ]
    }
   ],
   "source": [
    "if __name__ == '__main__':\n",
    "    # 计算图像经过my_totensor处理后的mean和std        \n",
    "    cal_mean_and_std()\n",
    "    # 测试函数\n",
    "#     test()"
   ]
  },
  {
   "cell_type": "code",
   "execution_count": null,
   "metadata": {},
   "outputs": [],
   "source": []
  }
 ],
 "metadata": {
  "kernelspec": {
   "display_name": "Python [conda env:LDCT]",
   "language": "python",
   "name": "conda-env-LDCT-py"
  },
  "language_info": {
   "codemirror_mode": {
    "name": "ipython",
    "version": 3
   },
   "file_extension": ".py",
   "mimetype": "text/x-python",
   "name": "python",
   "nbconvert_exporter": "python",
   "pygments_lexer": "ipython3",
   "version": "3.8.5"
  }
 },
 "nbformat": 4,
 "nbformat_minor": 4
}