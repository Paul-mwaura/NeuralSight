{
 "metadata": {
  "language_info": {
   "codemirror_mode": {
    "name": "ipython",
    "version": 3
   },
   "file_extension": ".py",
   "mimetype": "text/x-python",
   "name": "python",
   "nbconvert_exporter": "python",
   "pygments_lexer": "ipython3",
   "version": "3.8.10"
  },
  "orig_nbformat": 2,
  "kernelspec": {
   "name": "python3810jvsc74a57bd04db26b4d543f57357d78002a22e8a5ca89b7664136e8cdbbae194c5bd19e68ea",
   "display_name": "Python 3.8.10 64-bit ('Dicomviewer': conda)"
  },
  "metadata": {
   "interpreter": {
    "hash": "4db26b4d543f57357d78002a22e8a5ca89b7664136e8cdbbae194c5bd19e68ea"
   }
  }
 },
 "nbformat": 4,
 "nbformat_minor": 2,
 "cells": [
  {
   "cell_type": "code",
   "execution_count": 1,
   "metadata": {},
   "outputs": [],
   "source": [
    "import sys\n",
    "\n",
    "from PyQt5.QtWidgets import QApplication\n",
    "\n",
    "from MainWindow import Mainwindow"
   ]
  },
  {
   "cell_type": "code",
   "execution_count": 2,
   "metadata": {},
   "outputs": [],
   "source": [
    "class RunMainwindow():\n",
    "    def __init__(self):\n",
    "        self.app = QApplication(sys.argv)\n",
    "        self.MainWindow = Mainwindow()\n",
    "    def run(self):\n",
    "        self.MainWindow.showMaximized()\n",
    "        self.MainWindow.show()\n",
    "        sys.exit(self.app.exec_())"
   ]
  },
  {
   "cell_type": "code",
   "execution_count": 3,
   "metadata": {},
   "outputs": [
    {
     "output_type": "error",
     "ename": "SystemExit",
     "evalue": "0",
     "traceback": [
      "An exception has occurred, use %tb to see the full traceback.\n",
      "\u001b[1;31mSystemExit\u001b[0m\u001b[1;31m:\u001b[0m 0\n"
     ]
    }
   ],
   "source": [
    "run = RunMainwindow()\n",
    "run.run()"
   ]
  },
  {
   "cell_type": "code",
   "execution_count": null,
   "metadata": {},
   "outputs": [],
   "source": []
  }
 ]
}